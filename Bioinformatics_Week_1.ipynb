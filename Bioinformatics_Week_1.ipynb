{
 "cells": [
  {
   "cell_type": "markdown",
   "metadata": {},
   "source": [
    "#### Code Challenge: Implement PatternCount (reproduced below).\n",
    "Input: Strings Text and Pattern.\n",
    "\n",
    "Output: Count(Text, Pattern).\n"
   ]
  },
  {
   "cell_type": "code",
   "execution_count": 126,
   "metadata": {},
   "outputs": [],
   "source": [
    "def pattern_find(t, p):\n",
    "    cnt = 0\n",
    "    for i in range(0, len(t)-len(p)):\n",
    "        if t[i:i+len(p)] == p:\n",
    "            cnt+=1\n",
    "    return cnt"
   ]
  },
  {
   "cell_type": "code",
   "execution_count": 127,
   "metadata": {},
   "outputs": [],
   "source": [
    "with open('bioinformatics_ucsd_dataset/dataset_2_6.txt', 'r') as f:\n",
    "    contents = f.readlines()"
   ]
  },
  {
   "cell_type": "code",
   "execution_count": 128,
   "metadata": {},
   "outputs": [
    {
     "data": {
      "text/plain": [
       "26"
      ]
     },
     "execution_count": 128,
     "metadata": {},
     "output_type": "execute_result"
    }
   ],
   "source": [
    "pattern_find(contents[0].strip(), contents[1].strip())"
   ]
  },
  {
   "cell_type": "code",
   "execution_count": 393,
   "metadata": {},
   "outputs": [
    {
     "data": {
      "text/plain": [
       "5"
      ]
     },
     "execution_count": 393,
     "metadata": {},
     "output_type": "execute_result"
    }
   ],
   "source": [
    "pattern_find('CGCGATACGTTACATACATGATAGACCGCGCGCGATCATATCGCGATTATC', 'CGCG')"
   ]
  },
  {
   "cell_type": "markdown",
   "metadata": {},
   "source": [
    "#### Code Challenge: Solve the Frequent Words Problem.\n",
    "\n",
    "Input: A string Text and an integer k.\n",
    "\n",
    "Output: All most frequent k-mers in Text."
   ]
  },
  {
   "cell_type": "code",
   "execution_count": 129,
   "metadata": {},
   "outputs": [],
   "source": [
    "with open('bioinformatics_ucsd_dataset/dataset_2_13.txt', 'r') as f:\n",
    "    inp = f.readlines()"
   ]
  },
  {
   "cell_type": "code",
   "execution_count": 130,
   "metadata": {},
   "outputs": [],
   "source": [
    "def better_frequent_words(text, k):\n",
    "    \n",
    "    #build frequency table\n",
    "    freq_table = {}\n",
    "    for i in range(0, len(text)-k+1):\n",
    "        if text[i:i+k] in freq_table:\n",
    "            freq_table[text[i:i+k]] += 1\n",
    "        else:\n",
    "            freq_table[text[i:i+k]] = 1\n",
    "    \n",
    "    #find keys associated with max values\n",
    "    max_k_mers = [keys for keys, v in freq_table.items() if v == max(freq_table.values())]\n",
    "    \n",
    "    return max_k_mers"
   ]
  },
  {
   "cell_type": "code",
   "execution_count": 131,
   "metadata": {},
   "outputs": [
    {
     "data": {
      "text/plain": [
       "['TTCCCGATTCCCGA']"
      ]
     },
     "execution_count": 131,
     "metadata": {},
     "output_type": "execute_result"
    }
   ],
   "source": [
    "better_frequent_words(inp[0].strip(), int(inp[1].strip()))"
   ]
  },
  {
   "cell_type": "code",
   "execution_count": 394,
   "metadata": {},
   "outputs": [
    {
     "data": {
      "text/plain": [
       "['CCT']"
      ]
     },
     "execution_count": 394,
     "metadata": {},
     "output_type": "execute_result"
    }
   ],
   "source": [
    "better_frequent_words('CGCCTAAATAGCCTCGCGGAGCCTTATGTCATACTCGTCCT', 3)"
   ]
  },
  {
   "cell_type": "markdown",
   "metadata": {},
   "source": [
    "#### Reverse Complement Problem: Find the reverse complement of a DNA string.\n",
    "\n",
    "Input: A DNA string Pattern.\n",
    "\n",
    "Output: Patternrc , the reverse complement of Pattern.\n",
    "\n",
    "Code Challenge: Solve the Reverse Complement Problem."
   ]
  },
  {
   "cell_type": "code",
   "execution_count": 190,
   "metadata": {},
   "outputs": [],
   "source": [
    "with open('bioinformatics_ucsd_dataset/dataset_3_2.txt', 'r') as f:\n",
    "    dna_strand = f.readlines()"
   ]
  },
  {
   "cell_type": "code",
   "execution_count": 191,
   "metadata": {},
   "outputs": [],
   "source": [
    "def reverse_dna_string(dna_pat):\n",
    "    rev_dna = ''\n",
    "    for letter in dna_pat:\n",
    "        if letter == 'A':\n",
    "            rev_dna += 'T'\n",
    "        elif letter == 'T':\n",
    "            rev_dna += 'A'\n",
    "        elif letter == 'G':\n",
    "            rev_dna += 'C'\n",
    "        else:\n",
    "            rev_dna += 'G'\n",
    "    return rev_dna[::-1]"
   ]
  },
  {
   "cell_type": "code",
   "execution_count": 192,
   "metadata": {},
   "outputs": [
    {
     "data": {
      "text/plain": [
       "'GGAGTAATCCCTACACAGGTGCCCTTTACTTCGGAAGACAAATACGCACCCTCGTGCTTAGCTCTTGACCGCAGAAGTGTTAGAGATGAGTGCAGATCCGGGCTAATGGTATGCTGGTGTGTACTACCTGTAATAAACATGAGGCCTCTCAGGTGGTCGCGTGCTAGAGAGGCCTCCTTAAACTTTATAAATAGCCGGGCAAAGGCAATCTATGTCCCGTCAGTAGATCGCCGGCAATCCGCTCCTGTGCCGCTAGTTTACAATGCGAACTAAGAGAGGACGGGAGGGGGGCACCTTGGATTTCGAGGAAGTCGCTTCGTACAAGCGGTATTGATAGGGGTTGCTAAGAACGAACTACTACCTATGAAACCGGAAGATTTGGAAGCTCATAGTCCTGGGAGGACACAACTTGTCCAATACGGGTAGTCCACTCTCCGTCTCGGCTCTTTACCGTGCTAAAGTAAAACTCGAGATTCCGAGACCACACAAGGGCCCGTCGCATCGGGGTGACCGCTGAGACCACGTTTCCACTGCAAGAAGTAAATGTGTACAGGAATTGCGGCCACGCAATTGCACACTCGGTACTAGATCATTCCTAATGATCTTATACCCCCGTCGGAGACTCGAGGAGGTGGCTGCAAGTTGTGATATTAGCCGTATACCTTCGTTTCTACCAAAGATGGCTACACTAAGCATTTCATACTAAACAGATTTGGGTTACTGGGGGTTAATCTACTGGCTTCCAGATAGTGATCTGATTCTAGGAAAGAGGAATCCCATCCTTGAACACATGCTTATTCATCATCAAGTCAATGCGGTGGTAGCACTTTCAGAGCGTTTTTGGAACATAACCGTATCCGCCCAAACTAGTGAACATAGGGAAACCAAATCATGTCGTGGGTAAACCCGCTGAGCTTTTCTATCTACGCAGCGGTGGAGCCGCTACCTGCATACATCTGTTTACGACGAACGGAGCTCTTTTGCGGGTTGTCGCATGAATTTATCAGAGTAGGACTGAGTCTCCCGGGGGGGATCGGCCGGGTGTTTGTCCATCCCGTTCGTTTTTTATTCAGATCTGGACGCTCTGCTGAGTAAAATGGGTCTCACGAAGTATCGAGCGACCCTGCAAAAGCGCCAAATTCGCAGCGGATTTGGCAATGTATCTATTTAACGGAACGGTCACTGGAATCGCATTCGAAGCGGGCACAAGTCGCAATTTCGGTAGTGAGAATATCGTAATGGCTAATACAATCATTCCCTGGGTATGCTTTCAGCATCGGCAAGGAGCTCCCATTCTTAACCTAAGCGTCCCTGCGACCACACATCAAAACGTTTCACCGTAGGGCAAAACCCGATACCGCACTGGGCAAGAGTGAGCATAATAATTCCCTACCTCCAAATTAACAGTACGCCGATATCCGCCCTCACATCATATGTGCCTTGAGATGACGCGCCCCAGTCAACCAGGCGTTAACGTGTAGTACGGTGTTGAGCACGCGAACATGGTATACGAAAAATGCGATATAGCCTCCGGCGTAGGGAACTTAGGCAAGCATACCATGGAGTGTACAACGCGTGCCCGGCGCGAAGTTGCCCACCCACTTTACGCACGGGAAGCAAGCCTGCCATGGTCGTATGGTTTGGCGCAAATATAGCCTGTATCCGTGTTTCCCGAGGTTCAGAGAGATCTGGTACGCCCTGGATAATCCGCCAATCCTAGTCTCATGTTCCAGGGTATCTTACTCGAAGGATCTATAGGAGCTACTACTCGGACGTGGGATTAAGCTTAAGTGCAGGACCTTGTTCGTCAAGTTTGTTCGTGGACCCCAGAAGTAATGCGACACTCTGTAGTAAAGCTGAGCAAGGTCTCAGTTAGTGCTATAGACTGACGAGTCGGCAGCTACATAGTTGGCCTTTTGAGTAGCCTGTAAATATCGGGTAGCAATCAGTTGATTTTGGGCCCGTAGCCCAATATGGAAGTATGAATATTGCACCGCAATCGACATGACCGTACGAATCCATATAGCTCTGGCACCCGTAATGGTTAACGCTTGTTATCAAACAAACCACTGTCTTTGTTGATAAGATAAGTTGAAACTAAGGGCGCATAAGCGCTTGGTGGTGATGTGAACAATTCAGGCATATATACGCTTCCAGAGTATTTATCAGCTTTTGCGATGTTATGAAGTGCGTTCGATCCAGGGATATGTAAGGGGAATGGGCTTCTCCCATTTTCAATGCACGAGCGCTCCAGTTGTGGGAGGTCGTGTAATCGCAACGAACAGCCTGGTGATCCACACCTTGGAAAATAGCAATCAAGCTCGGTCAGTCTAGGATGGCGCACAACCCGATAGCTTCGATGCCACTTTGCTACACCCGACCGAGCTTCGCAAGCGGCCTAGTCGCTGTCAATCTAGATTAAACTCGATCGGTGATCCACGACCTCTTTTGTCATTAGTTTAAGGCCGTCATCCAGAATCAATGACGAAAAAGTGGGCGGGTTAGCTGAACCATCTTCTCTTGTCATCGGACACCCAGGGCCTGGAGACTTAGGACAAACTCGAGTGAGGGGTGCACATGGCGGGTGCTTTCGTACAACCTCATTCCCTGGTGCTTACATGACGGATGCCAGCAAGGTTCCGCAGCGGCACAAGTCCGGAACGCATTCATTTGGGTGCAAGAGCTCTACAGTGAGTAAACTCGCCGCAGGCAACCGTCTCAGGCCCTATGTCTAAGCGGTCGAGAATTGCCTTGACACGTCGTGAGCTAATCCACATTACGTTGGTAATCGTTGTAGTAGAAAGTTACGCCCGCGTGCTTCTCACAAACGTCATGGACTGGATCACGATACCGTAACAAAGTGGCAAGCACGCCTTCACAAGGACACATGCACTGGGTATGACAGAATAGCGACCGCTGCCATACATGCTAGGCTCGTGAAATGCTCCAGTCTAGGGCTGTCGGAGCCCACACAGCCGACGGTACCGCGTGCGTTATCTCCTTAAGTCAGCAACCTCGGCCAGGTACACATGCAGCTGCTCCCATAACCGAATAGAACTTGTCAGCAACATAAGTGACGTACTATGTTAACACTCTTAGCTATATGTTATCCGCGACTGCTGAAGTATGAAGCGATCCTAGAAGCAGTGGAATAGCGGTTGTGGCGCTGGTTGCCGACCGTAGCCCTCTACTCGAATCGACTCGGTGAACTAGACTAACGTAGTAACGTAGACAGTCACGTAATCAATCCCAGCACAATTAACTGGCCAAGGACAAATCGGGGAAGACTTGTTAGTACACCGGTATCTGCAGGAGTCGGTCCAGTAATGACGCAAATAAGGGAAAGCGATCATCCAGTATAGGCTGGTATGCTGTTTCCTAGAGCCTTGCGAGCGAGGTCTCGGAAAAAAGTTTCTAGCGATTTAAAATGCATGACCGTTCTTATCTCCCCACGTCATTGTCTGCATGACGAACTGACTTATAGCGTTCACACCGAATAAACTAAACTGACAGATGGTCAGAAACATAGAGGGCCGCTGAGGAGTTGGTACACGAGGTTCCGACAACACCGAAGTCAGGAAGCCCAGAAGTTCACAAGTGAGTCCTCTTTGGCTTATCAAGAGGTAGGACCGGGTTTGCCGTTAAGCTTTATTGGCCCTGAACACGTACAATTAAAAGGACAGCCGCGGGCATCGTCACGGGGACACGACAGCTCGAACTGGTCTACTGGGCCGGGAGACGGGCGTCGTGCGCCCGTCTCACGCGATATCTCGCATAGAAATCCTGGCACACACAATGACTACTCTAGAGAGCCCCTCGCCCGTACTGTTGCTGATCCAGACGTTCGTAGATAGATCGGCTCTGGCCGGTCATACAGGTTGACTCTATAATGTGGTATATTGTAGTGCTAATAAACTCAGTCCTAGTACCGTGGAAACCCAGTGACGAGGGAGTTCCCTAATCAAAGGCCGGGAATGCGTACTGAATGTAACTGTTGGCGGTCCGCATGCTTAGTGGGCACAACTTAAGCACCCTCGGATGTACATGCAAGGTAATCAGTAGGCTTTTTCTCGATGCAGTACCACGCAGACCGGCAATGTTTGCTGGTCTTCATCGCACGTGAAAGGCTAAGCGGAGAACGTTAGTAAAGGGGAACATCCCGCCTGCGGACTTGCGGTCGGGGCAATGGACGAACCGACACTCCAAGATGTAACATACGTTATGCAGTGGACGTCGAAAAAAGCCGATGGATAGTGCACAACCCAACGCGCTGGGGCAAACGACCGTATGCTTAGTTCGTGGGGCAAAAAGAACTATCTGAACTGACAATAGTGGTATGCTAATCGGATGCTGAGTGCGATAGTGTAGAATTGAGTACGCCGGTTGCGGATATACGAACTTGAGGCAGTAGTGATAACATTCTGCGACAGCGGATGACGTATGAGGTAGCGCCGCTGGTGCTAGGACAGCCGGAGCATTATCGGCCCTCTTCCCCCATTAGATGCTTGCGTGTATCAACTTGTCATAGGGTGGGATGTGTACGGAGAAAGCTCGTTAGAAATCTACAGCTGCTACAGGCCTGTCAAATGGCCTTGACCCCCTAATTGTCATCGCCGAAAACGCATCGGGGCGCGCATCTAAGCTCTCTATCAGCATTCAAGCGGGTGTTTCTTTCGTCCAGTAAAAAAGGCGCCTCTTTCCACAGTAATAGCCCCACCCACTCCGTTAGTTAAACCCACCCTTATAATAAGCTTGGTATTCCCGCAGTCTTCTCCCCCCCGGGTTAGTATTTTAGGCGCTCGTAGCTCACACCGTTATTCCTACGGCTTTAGATACATCTAAGACGGCGGGGTTCCTTCCACACCAGGTATATGCTAACGGTAACTAGGTTATTTTGTACTGGTCGAGTGCTGACGGTGCGTCTAACTATCGCTCCAATCCTATCTCGTAGATGGTTGAGCGCCGGACCATAAATATTTGTTACTGGATTCAGACCTACGGCTGCTCAATTCTACCTGTCCCGCTCGTTCTGGATCAGGCATTATTCCCATTGAGTGGTGGCGCGCCTCGTTTAAAACTTTATCACATGCTTCTCGTTCCTACGTAATCTAGTCATAGAGCCGGAGAGTGTTTAGTCTTTCGGTGCTGCCTCAGTACTGTAACGCTTTGTTAAGACTTCCAGCTGATTCACTTGGGAAGCTAAAGTGACTGTTGCTATTTTGTGCTCTCTACCATCTAGTTCTAGTTTTCTTTTTGCTATGCGTCACTAGCGCGGCGATCATCACTCGCTACAGATCCTTTTTTGGTGGACATGAAGCACCGACACCCTCCCCTGGCCGATGCTCCTCGCAACGAGTGTATCGGCGCTGGAATAGACCGCAATCTAAGGTCGTGTCCACGCCTGGCCAGCAGCGAAGATGGGCCCTACATCCGTGACTGCCATGCCATCGGTACTGTTAGGCGCACCACGGGCTGGCTGCGCTTCGAACATCGTATTCCCTCTGTGGAAGGTCCAGTCGTCCGACCCGTCCCAAGAAACGTTGTTTTATTCGTATCGCCCTAAATAGTGCGTCGTGTGGCTCTAATTCTATGTGCTTTAGAAGGTAATCTAAAGGTCCACCATAAAAACGCCGTGAAGCTGTCAGTCCTGAAATAATCATCGCGGCTGCCTAACTACATCAACCTGCTCTCGTCGGTTCATATTCTTCAAGACCCATCGCCGCCATCTCAGAGCGTGTTCTGAATTTGGGTGCGGGAGGTGGGGACCGTCCTATGGTGCAACAGTAGAACGTACGAGCGCTAATGAGCATGGCGTACCTTAAATACCGCAGTCCCATAATGGAATGGGCCTTAAAATGTGCATTCGAAGCGTTACCTGGCTTCTGTGGGGTATGGTTAATAGAAGAGAAACATTAAAGCGGGTCTCAACCTTCCCCGTCACTTCTGCGTTAACATCTGGTACTCCTACCAGTAAAGAGTTGTGTCCAGTGAACGCCATGAGAGAACAGCGTAATCGCGTAATAACAATACGAACGACATACCCATTTTTCGGCGGTGCCTGATTTTGACCGGTCTACTACTACAGTAGTACTGGCATTATATAAGACAGCCCAAACAGAGAGGGGGCCACTTCCCGGTTGCGTATTTCGCCACCGCGGCTTATCCAGCGCGTTCCTTGTCATGGCCGTTACACGTCCTGGCTCGATAGGACATTACAGCAGCAAGTAGGCTTTTAGTGCAGCCGTTAAAGGCGTTCCCACCAGTTGTCCGAGCAGCCTGCCACAGGGATTCTTAGGTGCTTACGTGCTATGAAGGACAGATTCATTATCCATTGGAATGCCAACAACGACAGGGAAGCGGTAAAGCTTTGACTTCATCGATACACGACGACGGCTGGTTTCTAACTGATGAGAACTTCATCCTAACATGCGGACCAAACTAATCGTCATTCACATCCGTTAGGGCTATTTGTCGACATCGTCTCACAATAGAGATCGCGGTCGTCCGACCATGTATTGGCCAGGCCTAGCTTCGAGAGCTAGCTGCGGATATTGAATTTATTAGTTGCGGCGTTTCAAGGAGAAGGGGCCGATAGACCACAAGAAATCCCCCTGTAGCACCGCGGAGGACATGCATTCCATGATCGGGTATTGTGCCAATCCTGCAGTACCGGGCCATGTAGGGCCCGTTGTACAATCATCCTGGGGGATATTAGTTACCTTGGCTAGAACCATTGCCGATGGTCCTAACGTGCCGTTATCATAAAGATGCCAGCTGAATAAGGACGGCTGGAGTGGTCGTGCTGCCTTTCCGTTTCCGGGCCGAACTTCCTGATGAATCGCTGGTCGCTATGATAAGAACTATCTAAACCGCGGGAACTGTTTGGTAGCAGTATATACAAGTGTCATTAAGTGACATTGAACCTTATACTTCGTAGCACCGAAATTTATTTCTCGCCTGAATTGCCCCTGACCCGCGACGTGTGTGAGATAGGCGTCGATCCTAGCCAGGCTCCATATGAACTCCGATCGCTATGTGACGCTCCGGGAACACGGGCGCCGAAAGGAATTACAAATCGCGATTGTTGTATGATCAACCGCGAATTTGGGAAGTCTGGCAGTGAGAGGCCTGAAAGCAGAGGTGCGCGCCCCCCGTAAAATGGGGATCGGACAGAACTCCACAATGTTGTGACCCGCGCTAACCTTCGTTCTACCCTACTCACGTTAGGCCCGCGAAAGTCAGTACTGCATGGTAAAGTGCAACAGGTGACTACTGAACATACGGCTACTAGAGCACGAAGGGCTTCATTAGCCGCTTTTTCATTGAAACATAATATCACTACATCGAATTGCTGCTAGTATGGGTTGGGTAAGTCTATTTTGTCTGGATAATCGTACCCCAGCTGATCCTACCGTCGAAAACCGTCCAGTAATGAGGAATCACCAAGCCAACGTGAGACAGGCGTCAATAGTCCGTATCATGCCGGTATGATTGGACCGCGCGGAAGGTGAGTGCGACGCAGAGAGGCATCTCTGTCTCGGACGAGGTCCGGCAAGTTACGGGGAAATTCTGGCAGTGGTAAGGCAAGATGATGTTGTAGAGTACAGTCCTACCCTGCGCTTGAGGGGTGGACGATCCCTTGATTGCGATCTATGGTCGGTTTACCAGCCTTCTGTTCCAACTGGCCCCTACCCCTCTGGGGACGTTCTATTGCATTCCGGCGAGCGCATCCTACGGACATGTAGGATAACAGTCGGGAGTGGTACAGGCTTTAGTACTGTTATTGAGGTTAAACCTCATCCAGTTATGCGGGGTCGTGTAGCATGTACTACGCAGCCAGCAAACGACTAGAAGACCCGTATTAATCTGGCCTACCCTGAGGTATGATCATTTTACTTTTCAATCGGAGCGTAATAGGAAAGAAGGCAAATCGGATGTGGGTGCCTCATAACAGATGGGCAGCTCATCAGGAGCTTCGGTACATGCCGTAGTCCTAATGGTAAGGTTACTCCTAGGTTATTTCTGGGGTTTCTAAAGCACGCGCGGCAGCGGTTGGCTAGCGCTATGGATCTTTGCATAACTGAGTTCCACGACTTCGCGGGGCGCTAAAGTAATGGACGCTAGACACTCTTTTCAGTCCCGAAGTTCACCACTCCAGCAATGTAAAGCATCGTAGGACGCCTGCCAGTGACGAATAAGGACTTCGCGGGTCTGCAACCTTAGCCCCATTTTACTGCCGTGGGCTTGCAGCGATGGCCGGGGAATGTACTATCGATAGTTGTAGGTATCCACACAATGTTGTTGAGAGTGGATCTGCACCCATCGATCCAGTCGATACCGCTTCGCGCCGGGGACAAGTTTGTCAGCGAAGTCGCAA'"
      ]
     },
     "execution_count": 192,
     "metadata": {},
     "output_type": "execute_result"
    }
   ],
   "source": [
    "reverse_dna_string(dna_strand[0].strip())"
   ]
  },
  {
   "cell_type": "code",
   "execution_count": 395,
   "metadata": {},
   "outputs": [
    {
     "data": {
      "text/plain": [
       "'GACACAA'"
      ]
     },
     "execution_count": 395,
     "metadata": {},
     "output_type": "execute_result"
    }
   ],
   "source": [
    "reverse_dna_string('TTGTGTC')"
   ]
  },
  {
   "cell_type": "markdown",
   "metadata": {},
   "source": [
    "#### Pattern Matching Problem: Find all occurrences of a pattern in a string.\n",
    "\n",
    "Input: Strings Pattern and Genome.\n",
    "\n",
    "Output: All starting positions in Genome where Pattern appears as a substring."
   ]
  },
  {
   "cell_type": "code",
   "execution_count": 218,
   "metadata": {},
   "outputs": [],
   "source": [
    "def pattern_matching(pattern, genome):\n",
    "    indices = []\n",
    "    for i in range(0, len(genome)-len(pattern)+1):\n",
    "        if pattern == genome[i:i+len(pattern)]:\n",
    "            indices.append(i)\n",
    "    return indices"
   ]
  },
  {
   "cell_type": "code",
   "execution_count": 219,
   "metadata": {},
   "outputs": [],
   "source": [
    "with open('bioinformatics_ucsd_dataset/dataset_3_5.txt', 'r') as f:\n",
    "    pattern = f.readlines()"
   ]
  },
  {
   "cell_type": "code",
   "execution_count": 220,
   "metadata": {},
   "outputs": [],
   "source": [
    "pos = pattern_matching(pattern[0].strip(), pattern[1].strip())"
   ]
  },
  {
   "cell_type": "code",
   "execution_count": 221,
   "metadata": {},
   "outputs": [],
   "source": [
    "disp = ' '.join(list(map(str, pos)))"
   ]
  },
  {
   "cell_type": "code",
   "execution_count": 222,
   "metadata": {},
   "outputs": [
    {
     "data": {
      "text/plain": [
       "'36 46 108 241 284 293 332 403 495 528 554 573 597 613 620 658 700 819 862 915 936 982 1021 1070 1111 1123 1130 1194 1213 1295 1302 1309 1330 1367 1401 1408 1427 1453 1468 1475 1539 1560 1625 1693 1714 1752 1794 1801 1828 1913 1920 1988 2009 2086 2148 2171 2223 2285 2292 2299 2306 2323 2330 2362 2386 2393 2467 2474 2520 2551 2591 2722 2737 2755 2762 2777 2784 2801 2848 2910 2936 2988 3004 3048 3115 3124 3131 3187 3194 3235 3346 3380 3429 3540 3547 3593 3610 3617 3635 3642 3659 3674 3717 3761 3784 3799 3822 3829 3858 3865 3915 3938 3998 4005 4058 4085 4092 4099 4174 4215 4294 4388 4395 4416 4468 4547 4582 4649 4664 4716 4723 4772 4799 4827 4892 4899 4948 4963 4970 4977 5107 5114 5193 5224 5254 5287 5310 5317 5324 5345 5385 5453 5511 5543 5609 5651 5658 5665 5703 5710 5743 5750 5810 5862 5877 5947 5954 5981 5994 6009 6053 6085 6109 6129 6165 6219 6236 6261 6297 6322 6329 6340 6385 6409 6451 6498 6531 6547 6585 6613 6620 6657 6684 6691 6698 6767 6834 6846 6960 6986 7003 7018 7025 7032 7039 7097 7104 7152 7159 7166 7173 7192 7205 7212 7276 7296 7366 7396 7431 7438 7465 7490 7539 7589 7608 7623 7638 7645 7673 7758 7792 7809 7838 7845 7888 7903 7910 7976 8005 8021 8073 8080 8115 8122 8169 8199 8206 8213 8220 8252 8291 8339 8414 8421 8437 8512 8556 8563 8570 8639 8666 8873'"
      ]
     },
     "execution_count": 222,
     "metadata": {},
     "output_type": "execute_result"
    }
   ],
   "source": [
    "disp"
   ]
  },
  {
   "cell_type": "code",
   "execution_count": 402,
   "metadata": {},
   "outputs": [
    {
     "data": {
      "text/plain": [
       "[4, 6, 14]"
      ]
     },
     "execution_count": 402,
     "metadata": {},
     "output_type": "execute_result"
    }
   ],
   "source": [
    "pattern_matching('ATA', 'GACGATATACGACGATA')"
   ]
  },
  {
   "cell_type": "markdown",
   "metadata": {},
   "source": [
    "#### Vibrio Cholerae\n",
    "\n",
    "Exercise Break: Return a space-separated list of starting positions (in increasing order) where CTTGATCAT appears as a substring in the Vibrio cholerae genome."
   ]
  },
  {
   "cell_type": "code",
   "execution_count": 230,
   "metadata": {},
   "outputs": [],
   "source": [
    "with open('bioinformatics_ucsd_dataset/Vibrio_cholerae.txt', 'r') as f:\n",
    "    p = f.readlines()"
   ]
  },
  {
   "cell_type": "code",
   "execution_count": 231,
   "metadata": {},
   "outputs": [],
   "source": [
    "ind = pattern_matching('CTTGATCAT', p[0].strip())"
   ]
  },
  {
   "cell_type": "code",
   "execution_count": 232,
   "metadata": {},
   "outputs": [],
   "source": [
    "dis = ' '.join(list(map(str, ind)))"
   ]
  },
  {
   "cell_type": "code",
   "execution_count": 233,
   "metadata": {},
   "outputs": [
    {
     "data": {
      "text/plain": [
       "'60039 98409 129189 152283 152354 152411 163207 197028 200160 357976 376771 392723 532935 600085 622755 1065555'"
      ]
     },
     "execution_count": 233,
     "metadata": {},
     "output_type": "execute_result"
    }
   ],
   "source": [
    "dis"
   ]
  },
  {
   "cell_type": "markdown",
   "metadata": {},
   "source": [
    "#### Code Challenge: Solve the Clump Finding Problem (restated below). You will need to make sure that your algorithm is efficient enough to handle a large dataset.\n",
    "\n",
    "Clump Finding Problem: Find patterns forming clumps in a string.\n",
    "\n",
    "Input: A string Genome, and integers k, L, and t.\n",
    "\n",
    "Output: All distinct k-mers forming (L, t)-clumps in Genome."
   ]
  },
  {
   "cell_type": "code",
   "execution_count": 313,
   "metadata": {},
   "outputs": [],
   "source": [
    "def find_clump(text, k, l, t):\n",
    "    patterns = []\n",
    "    for i in range(0, len(text)-l+1):\n",
    "        freq_table = {}\n",
    "        for j in range(i, i+l):\n",
    "            if text[j:j+k] in freq_table:\n",
    "                freq_table[text[j:j+k]] += 1\n",
    "            else:\n",
    "                freq_table[text[j:j+k]] = 1\n",
    "        for key, val in freq_table.items():\n",
    "            if val >= t:\n",
    "                patterns.append(key)\n",
    "    return list(set(patterns))"
   ]
  },
  {
   "cell_type": "code",
   "execution_count": 314,
   "metadata": {},
   "outputs": [
    {
     "data": {
      "text/plain": [
       "['GAAGA', 'CGACA']"
      ]
     },
     "execution_count": 314,
     "metadata": {},
     "output_type": "execute_result"
    }
   ],
   "source": [
    "find_clump('CGGACTCGACAGATGTGAAGAACGACAATGTGAAGACTCGACACGACAGAGTGAAGAGAAGAGGAAACATTGTAA', 5, 50, 4)"
   ]
  },
  {
   "cell_type": "code",
   "execution_count": 315,
   "metadata": {},
   "outputs": [],
   "source": [
    "with open('bioinformatics_ucsd_dataset/dataset_4_5.txt', 'r') as f:\n",
    "    z = f.readlines()"
   ]
  },
  {
   "cell_type": "code",
   "execution_count": 316,
   "metadata": {},
   "outputs": [],
   "source": [
    "parm = z[1].strip().split(' ')"
   ]
  },
  {
   "cell_type": "code",
   "execution_count": 317,
   "metadata": {},
   "outputs": [
    {
     "data": {
      "text/plain": [
       "['GGACAAGAGT',\n",
       " 'AGAGTGGACA',\n",
       " 'GAGTGGACAA',\n",
       " 'TGGACAAGAG',\n",
       " 'ACAAGAGTGG',\n",
       " 'AAGAGTGGAC',\n",
       " 'CAAGAGTGGA',\n",
       " 'AGTGGACAAG',\n",
       " 'GACAAGAGTG',\n",
       " 'GTGGACAAGA']"
      ]
     },
     "execution_count": 317,
     "metadata": {},
     "output_type": "execute_result"
    }
   ],
   "source": [
    "find_clump(z[0].strip(), int(parm[0]), int(parm[1]), int(parm[2]))"
   ]
  },
  {
   "cell_type": "markdown",
   "metadata": {},
   "source": [
    "### If you think your solution is efficient enough, try it out on the E. coli genome, the workhorse of bacterial genomics.\n",
    "Exercise Break: How many different 9-mers form (500,3)-clumps in the E. coli genome? (In other words, do not count a 9-mer more than once.)"
   ]
  },
  {
   "cell_type": "code",
   "execution_count": 389,
   "metadata": {},
   "outputs": [],
   "source": [
    "def efficient_find_clump(text, k, l, t):\n",
    "    \n",
    "    #find k-mers\n",
    "    dict_indices = {}\n",
    "    for i in range(0, len(text)-k+1):\n",
    "        if text[i:i+k] in dict_indices:\n",
    "            dict_indices[text[i:i+k]].append(i)\n",
    "        else:\n",
    "            dict_indices[text[i:i+k]] = [i]\n",
    "    \n",
    "    #check if the k-mers are in the window length L and greater than or equal to t\n",
    "    k_clumps = {}\n",
    "    for key, val in dict_indices.items():\n",
    "        if len(val)-t >= 0:\n",
    "            cnt = 0\n",
    "            for i in range(0, len(val)-t+1):\n",
    "                if (val[i+t-1]+k - val[i]) <= l:\n",
    "                    cnt+=3\n",
    "            k_clumps[key] = cnt\n",
    "    \n",
    "    final_clumps = [ k_mer for k_mer, value in k_clumps.items() if value >= t]\n",
    "                    \n",
    "    return final_clumps"
   ]
  },
  {
   "cell_type": "code",
   "execution_count": 390,
   "metadata": {},
   "outputs": [],
   "source": [
    "with open('bioinformatics_ucsd_dataset/E_coli.txt', 'r') as f:\n",
    "    h = f.readlines()"
   ]
  },
  {
   "cell_type": "code",
   "execution_count": 391,
   "metadata": {},
   "outputs": [],
   "source": [
    "clump = efficient_find_clump(h[0].strip(), 9, 500, 3)"
   ]
  },
  {
   "cell_type": "code",
   "execution_count": 392,
   "metadata": {},
   "outputs": [
    {
     "data": {
      "text/plain": [
       "1904"
      ]
     },
     "execution_count": 392,
     "metadata": {},
     "output_type": "execute_result"
    }
   ],
   "source": [
    "len(set(clump))"
   ]
  },
  {
   "cell_type": "code",
   "execution_count": null,
   "metadata": {},
   "outputs": [],
   "source": []
  }
 ],
 "metadata": {
  "kernelspec": {
   "display_name": "Python 3",
   "language": "python",
   "name": "python3"
  },
  "language_info": {
   "codemirror_mode": {
    "name": "ipython",
    "version": 3
   },
   "file_extension": ".py",
   "mimetype": "text/x-python",
   "name": "python",
   "nbconvert_exporter": "python",
   "pygments_lexer": "ipython3",
   "version": "3.8.5"
  }
 },
 "nbformat": 4,
 "nbformat_minor": 4
}
